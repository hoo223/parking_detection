{
 "cells": [
  {
   "cell_type": "code",
   "execution_count": 1,
   "id": "f8b5767c",
   "metadata": {},
   "outputs": [],
   "source": [
    "''' 1. Module Import '''\n",
    "import numpy as np\n",
    "import matplotlib.pyplot as plt\n",
    "\n",
    "import torch\n",
    "import torch.nn as nn\n",
    "import torch.nn.functional as F\n",
    "from torch.utils.data import DataLoader\n",
    "from torchvision import transforms, datasets"
   ]
  },
  {
   "cell_type": "code",
   "execution_count": 2,
   "id": "871d0c56",
   "metadata": {},
   "outputs": [
    {
     "name": "stdout",
     "output_type": "stream",
     "text": [
      "Using PyTorch version: 1.11.0+cu113  Device: cuda\n"
     ]
    }
   ],
   "source": [
    "''' 2. 딥러닝 모델을 설계할 때 활요하는 장비 확인 '''\n",
    "if torch.cuda.is_available():\n",
    "    DEVICE = torch.device('cuda')\n",
    "else:\n",
    "    DEVICE = torch.device('cpu')\n",
    "    \n",
    "print('Using PyTorch version:', torch.__version__, ' Device:', DEVICE)"
   ]
  },
  {
   "cell_type": "code",
   "execution_count": 3,
   "id": "85259721",
   "metadata": {},
   "outputs": [],
   "source": [
    "BATCH_SIZE = 1\n",
    "EPOCHS = 10"
   ]
  },
  {
   "cell_type": "code",
   "execution_count": 4,
   "id": "e9f8a828",
   "metadata": {},
   "outputs": [],
   "source": [
    "''' 3. 이미지 데이터 불러오기(Train set, Test set 분리하기)'''\n",
    "import os \n",
    "from PIL import Image\n",
    "\n",
    "# preprocessing 정의\n",
    "data_transforms = {\n",
    "    'train': transforms.Compose([\n",
    "        transforms.RandomResizedCrop(224),\n",
    "        transforms.RandomHorizontalFlip(),\n",
    "        transforms.ToTensor(),\n",
    "        transforms.Normalize([0.5, 0.5, 0.5],[0.5, 0.5, 0.5])\n",
    "    ]),\n",
    "    'val': transforms.Compose([\n",
    "        transforms.CenterCrop(224),\n",
    "        transforms.Resize(256),\n",
    "        transforms.ToTensor(),\n",
    "        transforms.Normalize([0.5, 0.5, 0.5],[0.5, 0.5, 0.5])\n",
    "    ])\n",
    "}\n",
    "\n",
    "class Data:\n",
    "    def __init__(self, img_path, txt_path, transforms = None):\n",
    "        with open(txt_path, 'r') as f:\n",
    "            lines = f.readlines()\n",
    "            self.img_list = [os.path.join(img_path, i.split()[0]) for i in lines]\n",
    "            self.label_list = [i.split()[1] for i in lines]\n",
    "            self.transforms = transforms\n",
    "    \n",
    "    def __getitem__(self, index):\n",
    "        try:\n",
    "            img_path = self.img_list[index]\n",
    "            img = Image.open(img_path)\n",
    "            img = self.transforms(img)\n",
    "            label = self.label_list[index]\n",
    "        except:\n",
    "            return None\n",
    "        return img, label\n",
    "    \n",
    "    def __len__(self):\n",
    "        return len(self.label_list)\n",
    "\n",
    "img_path = '/root/share/datasets/ICNGC_data'\n",
    "trainset_txt = './splits/Custom_Paper/fold1234_all.txt'\n",
    "testset_txt = './splits/Custom_Paper/fold5_all.txt'\n",
    "train_dataset = Data(img_path, trainset_txt, data_transforms['train'])\n",
    "test_dataset = Data(img_path, testset_txt, data_transforms['val'])\n",
    "train_loader = DataLoader(train_dataset, batch_size=BATCH_SIZE, shuffle=True, drop_last=False)\n",
    "test_loader = DataLoader(test_dataset, batch_size=BATCH_SIZE, shuffle=True, drop_last=False)"
   ]
  },
  {
   "cell_type": "code",
   "execution_count": 5,
   "id": "320a77b6",
   "metadata": {},
   "outputs": [
    {
     "name": "stdout",
     "output_type": "stream",
     "text": [
      "X_train: torch.Size([1, 3, 224, 224]) type: torch.FloatTensor\n",
      "y_train: 1 type: <class 'tuple'>\n"
     ]
    }
   ],
   "source": [
    "''' 4. 데이터 확인하기 (1) '''\n",
    "for (X_train, y_train) in train_loader:\n",
    "    print('X_train:', X_train.size(), 'type:', X_train.type())\n",
    "    print('y_train:', len(y_train), 'type:', type(y_train))\n",
    "    break"
   ]
  },
  {
   "cell_type": "code",
   "execution_count": 6,
   "id": "2ee0681b",
   "metadata": {},
   "outputs": [
    {
     "name": "stderr",
     "output_type": "stream",
     "text": [
      "Clipping input data to the valid range for imshow with RGB data ([0..1] for floats or [0..255] for integers).\n"
     ]
    },
    {
     "data": {
      "image/png": "[encoded data removed]",
      "text/plain": [
       "<Figure size 100x100 with 1 Axes>"
      ]
     },
     "metadata": {},
     "output_type": "display_data"
    }
   ],
   "source": [
    "''' 5. 데이터 확인하기 (2) '''\n",
    "pltsize = 1\n",
    "plt.figure(figsize=(BATCH_SIZE * pltsize, pltsize))\n",
    "\n",
    "for i in range(BATCH_SIZE):\n",
    "    plt.subplot(1, BATCH_SIZE, i+1)\n",
    "    plt.axis('off')\n",
    "    plt.imshow(np.transpose(X_train[i], (1, 2, 0)))\n",
    "    plt.title('Class: ' + str(y_train[i]))"
   ]
  },
  {
   "cell_type": "code",
   "execution_count": 7,
   "id": "bc11d5fe",
   "metadata": {},
   "outputs": [],
   "source": [
    "''' 6. 불러온 특정 모델에 대해 학습을 진행하며 학습 데이터에 대한 모델 성능을 확인하는 함수 정의 '''\n",
    "def train(model, train_loader, optimizer, log_interval):\n",
    "    model.train() # 모델을 학습 상태로 지정\n",
    "    for batch_idx, (image, label) in enumerate(train_loader):\n",
    "        label = list(map(int, label))\n",
    "        label = torch.Tensor(label)\n",
    "        image = image.to(DEVICE) # 기존 정의한 장비에 할당\n",
    "        label = label.to(DEVICE) # 기존 정의한 장비에 할당\n",
    "        optimizer.zero_grad() # 기존 할당되어 있던 gradient 값 초기화\n",
    "        output = model(image) # Forward propagation\n",
    "        loss = criterion(output, label.long()) # loss 계산\n",
    "        loss.backward() # Backpropagation을 통해 계산된 gradient 값을 각 파라미터에 할당\n",
    "        optimizer.step() # 파라미터 업데이트\n",
    "        \n",
    "        if batch_idx % log_interval == 0:\n",
    "            print(\"Train Epoch: {} [{}/{}({:.0f}%)]\\tTrain Loss: {:.6f}\".format(\n",
    "                  Epoch, batch_idx * len(image),\n",
    "                  len(train_loader.dataset), 100. * batch_idx / len(train_loader),\n",
    "                  loss.item()))"
   ]
  },
  {
   "cell_type": "code",
   "execution_count": 8,
   "id": "0c1f5556",
   "metadata": {},
   "outputs": [],
   "source": [
    "''' 7. 학습되는 과정 속에서 검증 데이터에 대한 모델 성능을 확인하는 함수 정의 '''\n",
    "def evaluate(model, test_loader):\n",
    "    model.eval() # 모델을 평가 상태로 지정\n",
    "    test_loss = 0\n",
    "    correct = 0\n",
    "    \n",
    "    with torch.no_grad(): # 평가하는 단계에서 gradient를 통해 파라미터 값이 업데이트되는 현상을 방지\n",
    "        for image, label in test_loader:\n",
    "            label = list(map(int, label))\n",
    "            label = torch.Tensor(label)\n",
    "            image = image.to(DEVICE) # 기존 정의한 장비에 할당\n",
    "            label = label.to(DEVICE) # 기존 정의한 장비에 할당\n",
    "            output = model(image) # Forward propagation\n",
    "            test_loss += criterion(output, label.long()).item() # loss 누적\n",
    "            prediction = output.max(1, keepdim = True)[1]\n",
    "            correct += prediction.eq(label.view_as(prediction)).sum().item() \n",
    "            \n",
    "    test_loss /= len(test_loader.dataset) # 평균 loss 계산\n",
    "    test_accuracy = 100. * correct / len(test_loader.dataset) # 정확도 계산\n",
    "    return test_loss, test_accuracy"
   ]
  },
  {
   "cell_type": "code",
   "execution_count": 9,
   "id": "922c4332",
   "metadata": {},
   "outputs": [],
   "source": [
    "import torchvision.models as models\n",
    "model = models.resnet34(pretrained=False)\n",
    "num_ftrs = model.fc.in_features\n",
    "model.fc = nn.Linear(num_ftrs, 2)\n",
    "model = model.cuda()"
   ]
  },
  {
   "cell_type": "code",
   "execution_count": 10,
   "id": "d06b78dd",
   "metadata": {},
   "outputs": [
    {
     "name": "stdout",
     "output_type": "stream",
     "text": [
      "Train Epoch: 1 [0/1867(0%)]\tTrain Loss: 0.649620\n",
      "Train Epoch: 1 [200/1867(11%)]\tTrain Loss: 0.049933\n",
      "Train Epoch: 1 [400/1867(21%)]\tTrain Loss: 0.741021\n",
      "Train Epoch: 1 [600/1867(32%)]\tTrain Loss: 1.435115\n",
      "Train Epoch: 1 [800/1867(43%)]\tTrain Loss: 0.051558\n",
      "Train Epoch: 1 [1000/1867(54%)]\tTrain Loss: 0.081546\n",
      "Train Epoch: 1 [1200/1867(64%)]\tTrain Loss: 1.599871\n",
      "Train Epoch: 1 [1400/1867(75%)]\tTrain Loss: 0.096436\n",
      "Train Epoch: 1 [1600/1867(86%)]\tTrain Loss: 0.011871\n",
      "Train Epoch: 1 [1800/1867(96%)]\tTrain Loss: 0.090005\n",
      "\n",
      "EPOCH: 1], \tTest Loss: 0.6479, \tTest Accuracy: 61.13 %\n",
      "\n",
      "Train Epoch: 2 [0/1867(0%)]\tTrain Loss: 0.011377\n",
      "Train Epoch: 2 [200/1867(11%)]\tTrain Loss: 0.075613\n",
      "Train Epoch: 2 [400/1867(21%)]\tTrain Loss: 0.246117\n",
      "Train Epoch: 2 [600/1867(32%)]\tTrain Loss: 0.025769\n",
      "Train Epoch: 2 [800/1867(43%)]\tTrain Loss: 0.043422\n",
      "Train Epoch: 2 [1000/1867(54%)]\tTrain Loss: 0.372807\n",
      "Train Epoch: 2 [1200/1867(64%)]\tTrain Loss: 0.061728\n",
      "Train Epoch: 2 [1400/1867(75%)]\tTrain Loss: 0.037590\n",
      "Train Epoch: 2 [1600/1867(86%)]\tTrain Loss: 0.006986\n",
      "Train Epoch: 2 [1800/1867(96%)]\tTrain Loss: 0.048841\n",
      "\n",
      "EPOCH: 2], \tTest Loss: 0.2654, \tTest Accuracy: 90.13 %\n",
      "\n",
      "Train Epoch: 3 [0/1867(0%)]\tTrain Loss: 0.083787\n",
      "Train Epoch: 3 [200/1867(11%)]\tTrain Loss: 0.014912\n",
      "Train Epoch: 3 [400/1867(21%)]\tTrain Loss: 0.411334\n",
      "Train Epoch: 3 [600/1867(32%)]\tTrain Loss: 2.221609\n",
      "Train Epoch: 3 [800/1867(43%)]\tTrain Loss: 1.400406\n",
      "Train Epoch: 3 [1000/1867(54%)]\tTrain Loss: 0.025724\n",
      "Train Epoch: 3 [1200/1867(64%)]\tTrain Loss: 0.025162\n",
      "Train Epoch: 3 [1400/1867(75%)]\tTrain Loss: 0.027569\n",
      "Train Epoch: 3 [1600/1867(86%)]\tTrain Loss: 0.062689\n",
      "Train Epoch: 3 [1800/1867(96%)]\tTrain Loss: 0.011557\n",
      "\n",
      "EPOCH: 3], \tTest Loss: 0.1838, \tTest Accuracy: 92.65 %\n",
      "\n",
      "Train Epoch: 4 [0/1867(0%)]\tTrain Loss: 3.764515\n",
      "Train Epoch: 4 [200/1867(11%)]\tTrain Loss: 0.041044\n",
      "Train Epoch: 4 [400/1867(21%)]\tTrain Loss: 0.001878\n",
      "Train Epoch: 4 [600/1867(32%)]\tTrain Loss: 0.006674\n",
      "Train Epoch: 4 [800/1867(43%)]\tTrain Loss: 0.022990\n",
      "Train Epoch: 4 [1000/1867(54%)]\tTrain Loss: 0.656784\n",
      "Train Epoch: 4 [1200/1867(64%)]\tTrain Loss: 0.696737\n",
      "Train Epoch: 4 [1400/1867(75%)]\tTrain Loss: 0.035241\n",
      "Train Epoch: 4 [1600/1867(86%)]\tTrain Loss: 0.429027\n",
      "Train Epoch: 4 [1800/1867(96%)]\tTrain Loss: 0.000560\n",
      "\n",
      "EPOCH: 4], \tTest Loss: 0.3448, \tTest Accuracy: 86.76 %\n",
      "\n",
      "Train Epoch: 5 [0/1867(0%)]\tTrain Loss: 0.011165\n",
      "Train Epoch: 5 [200/1867(11%)]\tTrain Loss: 0.001358\n",
      "Train Epoch: 5 [400/1867(21%)]\tTrain Loss: 0.024136\n",
      "Train Epoch: 5 [600/1867(32%)]\tTrain Loss: 0.010360\n",
      "Train Epoch: 5 [800/1867(43%)]\tTrain Loss: 0.043843\n",
      "Train Epoch: 5 [1000/1867(54%)]\tTrain Loss: 0.079578\n",
      "Train Epoch: 5 [1200/1867(64%)]\tTrain Loss: 0.075139\n",
      "Train Epoch: 5 [1400/1867(75%)]\tTrain Loss: 0.008196\n",
      "Train Epoch: 5 [1600/1867(86%)]\tTrain Loss: 0.038893\n",
      "Train Epoch: 5 [1800/1867(96%)]\tTrain Loss: 0.018935\n",
      "\n",
      "EPOCH: 5], \tTest Loss: 0.3789, \tTest Accuracy: 81.30 %\n",
      "\n",
      "Train Epoch: 6 [0/1867(0%)]\tTrain Loss: 0.038249\n",
      "Train Epoch: 6 [200/1867(11%)]\tTrain Loss: 0.001192\n",
      "Train Epoch: 6 [400/1867(21%)]\tTrain Loss: 0.001826\n",
      "Train Epoch: 6 [600/1867(32%)]\tTrain Loss: 0.078357\n",
      "Train Epoch: 6 [800/1867(43%)]\tTrain Loss: 0.002967\n",
      "Train Epoch: 6 [1000/1867(54%)]\tTrain Loss: 0.006680\n",
      "Train Epoch: 6 [1200/1867(64%)]\tTrain Loss: 0.015035\n",
      "Train Epoch: 6 [1400/1867(75%)]\tTrain Loss: 0.229896\n",
      "Train Epoch: 6 [1600/1867(86%)]\tTrain Loss: 0.070557\n",
      "Train Epoch: 6 [1800/1867(96%)]\tTrain Loss: 0.031357\n",
      "\n",
      "EPOCH: 6], \tTest Loss: 0.2909, \tTest Accuracy: 91.18 %\n",
      "\n",
      "Train Epoch: 7 [0/1867(0%)]\tTrain Loss: 0.113081\n",
      "Train Epoch: 7 [200/1867(11%)]\tTrain Loss: 0.003327\n",
      "Train Epoch: 7 [400/1867(21%)]\tTrain Loss: 0.005869\n",
      "Train Epoch: 7 [600/1867(32%)]\tTrain Loss: 0.014594\n",
      "Train Epoch: 7 [800/1867(43%)]\tTrain Loss: 0.195884\n",
      "Train Epoch: 7 [1000/1867(54%)]\tTrain Loss: 0.086423\n",
      "Train Epoch: 7 [1200/1867(64%)]\tTrain Loss: 0.047154\n",
      "Train Epoch: 7 [1400/1867(75%)]\tTrain Loss: 0.002205\n",
      "Train Epoch: 7 [1600/1867(86%)]\tTrain Loss: 0.017537\n",
      "Train Epoch: 7 [1800/1867(96%)]\tTrain Loss: 0.055825\n",
      "\n",
      "EPOCH: 7], \tTest Loss: 0.3103, \tTest Accuracy: 90.55 %\n",
      "\n",
      "Train Epoch: 8 [0/1867(0%)]\tTrain Loss: 1.168188\n",
      "Train Epoch: 8 [200/1867(11%)]\tTrain Loss: 0.001546\n",
      "Train Epoch: 8 [400/1867(21%)]\tTrain Loss: 0.009431\n",
      "Train Epoch: 8 [600/1867(32%)]\tTrain Loss: 0.004641\n",
      "Train Epoch: 8 [800/1867(43%)]\tTrain Loss: 0.000371\n",
      "Train Epoch: 8 [1000/1867(54%)]\tTrain Loss: 0.003820\n",
      "Train Epoch: 8 [1200/1867(64%)]\tTrain Loss: 0.001365\n",
      "Train Epoch: 8 [1400/1867(75%)]\tTrain Loss: 2.464327\n",
      "Train Epoch: 8 [1600/1867(86%)]\tTrain Loss: 0.009132\n",
      "Train Epoch: 8 [1800/1867(96%)]\tTrain Loss: 0.018893\n",
      "\n",
      "EPOCH: 8], \tTest Loss: 0.4539, \tTest Accuracy: 71.64 %\n",
      "\n",
      "Train Epoch: 9 [0/1867(0%)]\tTrain Loss: 0.132647\n",
      "Train Epoch: 9 [200/1867(11%)]\tTrain Loss: 0.161304\n",
      "Train Epoch: 9 [400/1867(21%)]\tTrain Loss: 3.577952\n",
      "Train Epoch: 9 [600/1867(32%)]\tTrain Loss: 0.013905\n",
      "Train Epoch: 9 [800/1867(43%)]\tTrain Loss: 0.010470\n",
      "Train Epoch: 9 [1000/1867(54%)]\tTrain Loss: 0.004983\n",
      "Train Epoch: 9 [1200/1867(64%)]\tTrain Loss: 0.017986\n",
      "Train Epoch: 9 [1400/1867(75%)]\tTrain Loss: 0.058805\n",
      "Train Epoch: 9 [1600/1867(86%)]\tTrain Loss: 0.026381\n",
      "Train Epoch: 9 [1800/1867(96%)]\tTrain Loss: 0.484893\n",
      "\n",
      "EPOCH: 9], \tTest Loss: 0.1483, \tTest Accuracy: 96.22 %\n",
      "\n",
      "Train Epoch: 10 [0/1867(0%)]\tTrain Loss: 0.252912\n",
      "Train Epoch: 10 [200/1867(11%)]\tTrain Loss: 1.611624\n",
      "Train Epoch: 10 [400/1867(21%)]\tTrain Loss: 0.125988\n",
      "Train Epoch: 10 [600/1867(32%)]\tTrain Loss: 0.039246\n",
      "Train Epoch: 10 [800/1867(43%)]\tTrain Loss: 0.012654\n",
      "Train Epoch: 10 [1000/1867(54%)]\tTrain Loss: 0.015824\n",
      "Train Epoch: 10 [1200/1867(64%)]\tTrain Loss: 0.000349\n",
      "Train Epoch: 10 [1400/1867(75%)]\tTrain Loss: 0.037713\n",
      "Train Epoch: 10 [1600/1867(86%)]\tTrain Loss: 0.001245\n",
      "Train Epoch: 10 [1800/1867(96%)]\tTrain Loss: 0.034430\n",
      "\n",
      "EPOCH: 10], \tTest Loss: 0.3378, \tTest Accuracy: 85.50 %\n",
      "\n"
     ]
    }
   ],
   "source": [
    "optimizer = torch.optim.Adam(model.parameters(), lr = 0.0005)\n",
    "criterion = nn.CrossEntropyLoss()\n",
    "\n",
    "for Epoch in range(1, EPOCHS + 1):\n",
    "    train(model, train_loader, optimizer, log_interval = 200)\n",
    "    test_loss, test_accuracy = evaluate(model, test_loader)\n",
    "    print(\"\\nEPOCH: {}], \\tTest Loss: {:.4f}, \\tTest Accuracy: {:.2f} %\\n\".format(Epoch, test_loss, test_accuracy))"
   ]
  },
  {
   "cell_type": "code",
   "execution_count": null,
   "id": "8ccbd47f",
   "metadata": {},
   "outputs": [],
   "source": []
  }
 ],
 "metadata": {
  "kernelspec": {
   "display_name": "Python 3 (ipykernel)",
   "language": "python",
   "name": "python3"
  },
  "language_info": {
   "codemirror_mode": {
    "name": "ipython",
    "version": 3
   },
   "file_extension": ".py",
   "mimetype": "text/x-python",
   "name": "python",
   "nbconvert_exporter": "python",
   "pygments_lexer": "ipython3",
   "version": "3.8.0"
  }
 },
 "nbformat": 4,
 "nbformat_minor": 5
}
