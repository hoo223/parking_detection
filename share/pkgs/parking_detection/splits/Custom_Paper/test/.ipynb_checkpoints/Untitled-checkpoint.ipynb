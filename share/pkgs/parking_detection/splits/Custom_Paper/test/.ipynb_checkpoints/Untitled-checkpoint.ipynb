{
 "cells": [
  {
   "cell_type": "code",
   "execution_count": 1,
   "id": "da6d773c",
   "metadata": {},
   "outputs": [
    {
     "name": "stdout",
     "output_type": "stream",
     "text": [
      "dji_0001_002_014_all.txt\n",
      "dji_0004_002_009_all.txt\n",
      "dji_0007_001_005_empty.txt\n",
      "dji_0009_001_all.txt\n",
      "dji_0002_002_all.txt\n",
      "dji_0007_002_empty.txt\n",
      "dji_0006_001_011_occupied.txt\n",
      "dji_0011_002_occupied.txt\n",
      ".ipynb_checkpoints\n",
      "dji_0003_002_empty.txt\n",
      "dji_0003_001_007_occupied.txt\n",
      "163750_014_empty.txt\n",
      "dji_0007_001_005_all.txt\n",
      "dji_0006_003_empty.txt\n",
      "141753_001_empty.txt\n",
      "dji_0011_002_empty.txt\n",
      "dji_0006_003_occupied.txt\n",
      "163750_014_all.txt\n",
      "dji_0004_001_008_occupied.txt\n",
      "dji_0001_002_014_occupied.txt\n",
      "dji_0002_001_015_all.txt\n",
      "dji_0006_002_012_all.txt\n",
      "dji_0001_001_002_00601_occupied.txt\n",
      "dji_0004_002_009_empty.txt\n",
      "dji_0004_002_009_occupied.txt\n",
      "dji_0004_003_all.txt\n",
      "dji_0003_001_007_empty.txt\n",
      "dji_0011_002_all.txt\n",
      "dji_0001_001_002_00601_empty.txt\n",
      "dji_0006_002_012_empty.txt\n",
      "Untitled.ipynb\n",
      "dji_0006_001_011_empty.txt\n",
      "dji_0002_002_occupied.txt\n",
      "dji_0007_002_all.txt\n",
      "dji_0004_001_008_all.txt\n",
      "dji_0007_001_005_occupied.txt\n",
      "dji_0001_002_014_empty.txt\n",
      "dji_0003_001_007_all.txt\n",
      "dji_0004_001_008_empty.txt\n",
      "dji_0004_003_occupied.txt\n",
      "dji_0006_003_all.txt\n",
      "dji_0003_002_occupied.txt\n",
      "dji_0009_001_empty.txt\n",
      "dji_0002_001_015_empty.txt\n",
      "dji_0001_001_002_00601_all.txt\n",
      "dji_0006_002_012_occupied.txt\n",
      "dji_0009_001_occupied.txt\n",
      "dji_0002_002_empty.txt\n",
      "141753_001_all.txt\n",
      "141753_001_occupied.txt\n",
      "163750_014_occupied.txt\n",
      "dji_0003_002_all.txt\n",
      "dji_0004_003_empty.txt\n",
      "dji_0006_001_011_all.txt\n",
      "dji_0007_002_occupied.txt\n",
      "dji_0002_001_015_occupied.txt\n"
     ]
    }
   ],
   "source": [
    "import os\n",
    "entries = os.listdir('./')\n",
    "\n",
    "empty_list = open('empty.txt', 'w')\n",
    "occupied_list = open('occupied.txt', 'w')\n",
    "all_list = open('all.txt', 'w')\n",
    "\n",
    "for entry in entries:\n",
    "    print(entry)\n",
    "    if 'checkpoints' not in entry:\n",
    "        lines = open(entry, 'r').readlines()\n",
    "        if 'all' in entry:\n",
    "            all_list.writelines(lines)\n",
    "        elif 'empty' in entry:\n",
    "            empty_list.writelines(lines)\n",
    "        elif 'occupied' in entry:\n",
    "            occupied_list.writelines(lines)\n",
    "    \n",
    "empty_list.close()\n",
    "occupied_list.close()\n",
    "all_list.close()"
   ]
  },
  {
   "cell_type": "code",
   "execution_count": null,
   "id": "b43ea9e9",
   "metadata": {},
   "outputs": [],
   "source": []
  }
 ],
 "metadata": {
  "kernelspec": {
   "display_name": "Python 3 (ipykernel)",
   "language": "python",
   "name": "python3"
  },
  "language_info": {
   "codemirror_mode": {
    "name": "ipython",
    "version": 3
   },
   "file_extension": ".py",
   "mimetype": "text/x-python",
   "name": "python",
   "nbconvert_exporter": "python",
   "pygments_lexer": "ipython3",
   "version": "3.8.13"
  }
 },
 "nbformat": 4,
 "nbformat_minor": 5
}
