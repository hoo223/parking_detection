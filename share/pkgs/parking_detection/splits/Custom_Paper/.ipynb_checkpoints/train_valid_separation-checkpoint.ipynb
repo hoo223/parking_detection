{
 "cells": [
  {
   "cell_type": "code",
   "execution_count": 12,
   "id": "597ae28e",
   "metadata": {},
   "outputs": [],
   "source": [
    "import os, random"
   ]
  },
  {
   "cell_type": "code",
   "execution_count": 29,
   "id": "e9032f4a",
   "metadata": {},
   "outputs": [],
   "source": [
    "dataset_list = [\n",
    "    'fold1234_all.txt',\n",
    "    'fold1235_all.txt',\n",
    "    'fold1245_all.txt',\n",
    "    'fold1345_all.txt',\n",
    "    'fold2345_all.txt'\n",
    "]"
   ]
  },
  {
   "cell_type": "code",
   "execution_count": 30,
   "id": "6f85fa0b",
   "metadata": {},
   "outputs": [
    {
     "name": "stdout",
     "output_type": "stream",
     "text": [
      "./fold1234_all.txt\n",
      "1307 560\n",
      "./fold1235_all.txt\n",
      "1309 561\n",
      "./fold1245_all.txt\n",
      "1315 563\n",
      "./fold1345_all.txt\n",
      "1316 564\n",
      "./fold2345_all.txt\n",
      "1314 563\n"
     ]
    }
   ],
   "source": [
    "for dataset in dataset_list:\n",
    "    dataset_path = os.path.join('./', dataset)\n",
    "    print(dataset_path)\n",
    "    r = open(dataset_path, 'r')\n",
    "    lines = r.readlines()\n",
    "    random.shuffle(lines)\n",
    "    train_size = round(len(lines)*0.7)\n",
    "    test_size = len(lines) - train_size\n",
    "    print(train_size, test_size)\n",
    "    train = open(dataset_path.split('.txt')[0] + '_train.txt', 'w')\n",
    "    valid = open(dataset_path.split('.txt')[0] + '_valid.txt', 'w')\n",
    "    train.writelines(lines[:train_size])\n",
    "    valid.writelines(lines[train_size:])\n",
    "    train.close()\n",
    "    valid.close()"
   ]
  },
  {
   "cell_type": "code",
   "execution_count": 22,
   "id": "0866df34",
   "metadata": {},
   "outputs": [
    {
     "name": "stdout",
     "output_type": "stream",
     "text": [
      "1314 563\n"
     ]
    }
   ],
   "source": [
    "train_size = round(len(lines)*0.7)\n",
    "test_size = len(lines) - train_size\n",
    "print(train_size, test_size)"
   ]
  },
  {
   "cell_type": "code",
   "execution_count": 24,
   "id": "acec78db",
   "metadata": {},
   "outputs": [
    {
     "data": {
      "text/plain": [
       "(1314, 563)"
      ]
     },
     "execution_count": 24,
     "metadata": {},
     "output_type": "execute_result"
    }
   ],
   "source": [
    "len(lines[:train_size]), len(lines[train_size:]), "
   ]
  },
  {
   "cell_type": "code",
   "execution_count": null,
   "id": "a916ec79",
   "metadata": {},
   "outputs": [],
   "source": []
  }
 ],
 "metadata": {
  "kernelspec": {
   "display_name": "Python 3 (ipykernel)",
   "language": "python",
   "name": "python3"
  },
  "language_info": {
   "codemirror_mode": {
    "name": "ipython",
    "version": 3
   },
   "file_extension": ".py",
   "mimetype": "text/x-python",
   "name": "python",
   "nbconvert_exporter": "python",
   "pygments_lexer": "ipython3",
   "version": "3.8.13"
  }
 },
 "nbformat": 4,
 "nbformat_minor": 5
}
