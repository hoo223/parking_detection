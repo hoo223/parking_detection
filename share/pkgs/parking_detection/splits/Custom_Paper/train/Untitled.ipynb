{
 "cells": [
  {
   "cell_type": "code",
   "execution_count": 2,
   "id": "da6d773c",
   "metadata": {},
   "outputs": [
    {
     "name": "stdout",
     "output_type": "stream",
     "text": [
      "143757_008_occupied.txt\n",
      "131748_002_empty.txt\n",
      "164119_015_occupied.txt\n",
      "111200_002_empty.txt\n",
      "163250_013_empty.txt\n",
      ".ipynb_checkpoints\n",
      "143757_008_empty.txt\n",
      "162722_011_all.txt\n",
      "150606_010_occupied.txt\n",
      "134638_006_all.txt\n",
      "150606_010_all.txt\n",
      "164119_015_all.txt\n",
      "164625_016_occupied.txt\n",
      "111200_002_occupied.txt\n",
      "164941_017_empty.txt\n",
      "164941_017_all.txt\n",
      "135716_007_all.txt\n",
      "Untitled.ipynb\n",
      "135716_007_empty.txt\n",
      "144800_009_all.txt\n",
      "134638_006_occupied.txt\n",
      "163250_013_occupied.txt\n",
      "134638_006_empty.txt\n",
      "162722_011_empty.txt\n",
      "150606_010_empty.txt\n",
      "164625_016_empty.txt\n",
      "163250_013_all.txt\n",
      "131748_002_occupied.txt\n",
      "164941_017_occupied.txt\n",
      "164625_016_all.txt\n",
      "144800_009_empty.txt\n",
      "111200_002_all.txt\n",
      "143757_008_all.txt\n",
      "131748_002_all.txt\n",
      "164119_015_empty.txt\n",
      "162722_011_occupied.txt\n",
      "135716_007_occupied.txt\n",
      "144800_009_occupied.txt\n"
     ]
    }
   ],
   "source": [
    "import os\n",
    "entries = os.listdir('./')\n",
    "\n",
    "empty_list = open('empty.txt', 'w')\n",
    "occupied_list = open('occupied.txt', 'w')\n",
    "all_list = open('all.txt', 'w')\n",
    "\n",
    "for entry in entries:\n",
    "    print(entry)\n",
    "    if 'checkpoints' not in entry:\n",
    "        lines = open(entry, 'r').readlines()\n",
    "        if 'all' in entry:\n",
    "            all_list.writelines(lines)\n",
    "        elif 'empty' in entry:\n",
    "            empty_list.writelines(lines)\n",
    "        elif 'occupied' in entry:\n",
    "            occupied_list.writelines(lines)\n",
    "    \n",
    "empty_list.close()\n",
    "occupied_list.close()\n",
    "all_list.close()"
   ]
  },
  {
   "cell_type": "code",
   "execution_count": null,
   "id": "b43ea9e9",
   "metadata": {},
   "outputs": [],
   "source": []
  }
 ],
 "metadata": {
  "kernelspec": {
   "display_name": "Python 3 (ipykernel)",
   "language": "python",
   "name": "python3"
  },
  "language_info": {
   "codemirror_mode": {
    "name": "ipython",
    "version": 3
   },
   "file_extension": ".py",
   "mimetype": "text/x-python",
   "name": "python",
   "nbconvert_exporter": "python",
   "pygments_lexer": "ipython3",
   "version": "3.8.13"
  }
 },
 "nbformat": 4,
 "nbformat_minor": 5
}
