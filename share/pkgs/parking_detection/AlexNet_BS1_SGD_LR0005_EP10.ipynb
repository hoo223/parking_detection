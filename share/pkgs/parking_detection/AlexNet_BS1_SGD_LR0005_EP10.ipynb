{
 "cells": [
  {
   "cell_type": "code",
   "execution_count": 1,
   "id": "f8b5767c",
   "metadata": {},
   "outputs": [],
   "source": [
    "''' 1. Module Import '''\n",
    "import numpy as np\n",
    "import matplotlib.pyplot as plt\n",
    "import os, copy\n",
    "from PIL import Image\n",
    "\n",
    "import torch\n",
    "import torch.nn as nn\n",
    "import torch.nn.functional as F\n",
    "from torch.utils.data import DataLoader\n",
    "from torchvision import transforms, datasets"
   ]
  },
  {
   "cell_type": "code",
   "execution_count": 2,
   "id": "871d0c56",
   "metadata": {},
   "outputs": [
    {
     "name": "stdout",
     "output_type": "stream",
     "text": [
      "Using PyTorch version: 1.11.0+cu113  Device: cuda\n"
     ]
    }
   ],
   "source": [
    "''' 2. 딥러닝 모델을 설계할 때 활요하는 장비 확인 '''\n",
    "if torch.cuda.is_available():\n",
    "    DEVICE = torch.device('cuda')\n",
    "else:\n",
    "    DEVICE = torch.device('cpu')\n",
    "    \n",
    "print('Using PyTorch version:', torch.__version__, ' Device:', DEVICE)"
   ]
  },
  {
   "cell_type": "code",
   "execution_count": 3,
   "id": "85259721",
   "metadata": {},
   "outputs": [],
   "source": [
    "BATCH_SIZE = 1\n",
    "EPOCHS = 10\n",
    "LEARNING_RATE = 0.0005\n",
    "OPTIM = 'SGD'\n",
    "MODEL = 'AlexNet'"
   ]
  },
  {
   "cell_type": "code",
   "execution_count": 4,
   "id": "e9f8a828",
   "metadata": {},
   "outputs": [],
   "source": [
    "''' 3. 이미지 데이터 불러오기(Train set, Test set 분리하기)'''\n",
    "# preprocessing 정의\n",
    "data_transforms = {\n",
    "    'train': transforms.Compose([\n",
    "        transforms.RandomResizedCrop(224),\n",
    "        transforms.RandomHorizontalFlip(),\n",
    "        transforms.ToTensor(),\n",
    "        transforms.Normalize([0.5, 0.5, 0.5],[0.5, 0.5, 0.5])\n",
    "    ]),\n",
    "    'val': transforms.Compose([\n",
    "        transforms.CenterCrop(224),\n",
    "        transforms.Resize(256),\n",
    "        transforms.ToTensor(),\n",
    "        transforms.Normalize([0.5, 0.5, 0.5],[0.5, 0.5, 0.5])\n",
    "    ])\n",
    "}\n",
    "\n",
    "class Data:\n",
    "    def __init__(self, img_path, txt_path, transforms = None):\n",
    "        with open(txt_path, 'r') as f:\n",
    "            lines = f.readlines()\n",
    "            self.img_list = [os.path.join(img_path, i.split()[0]) for i in lines]\n",
    "            self.label_list = [i.split()[1] for i in lines]\n",
    "            self.transforms = transforms\n",
    "    \n",
    "    def __getitem__(self, index):\n",
    "        try:\n",
    "            img_path = self.img_list[index]\n",
    "            img = Image.open(img_path)\n",
    "            img = self.transforms(img)\n",
    "            label = self.label_list[index]\n",
    "        except:\n",
    "            return None\n",
    "        return img, label\n",
    "    \n",
    "    def __len__(self):\n",
    "        return len(self.label_list)\n",
    "\n",
    "img_path = '/root/share/datasets/ICNGC_data'\n",
    "trainset_txt = './splits/Custom_Paper/fold1234_all.txt'\n",
    "testset_txt = './splits/Custom_Paper/fold5_all.txt'\n",
    "train_dataset = Data(img_path, trainset_txt, data_transforms['train'])\n",
    "test_dataset = Data(img_path, testset_txt, data_transforms['val'])\n",
    "train_loader = DataLoader(train_dataset, batch_size=BATCH_SIZE, shuffle=True, drop_last=False)\n",
    "test_loader = DataLoader(test_dataset, batch_size=BATCH_SIZE, shuffle=True, drop_last=False)"
   ]
  },
  {
   "cell_type": "code",
   "execution_count": 5,
   "id": "320a77b6",
   "metadata": {},
   "outputs": [
    {
     "name": "stdout",
     "output_type": "stream",
     "text": [
      "X_train: torch.Size([1, 3, 224, 224]) type: torch.FloatTensor\n",
      "y_train: 1 type: <class 'tuple'>\n"
     ]
    }
   ],
   "source": [
    "''' 4. 데이터 확인하기 (1) '''\n",
    "for (X_train, y_train) in train_loader:\n",
    "    print('X_train:', X_train.size(), 'type:', X_train.type())\n",
    "    print('y_train:', len(y_train), 'type:', type(y_train))\n",
    "    break"
   ]
  },
  {
   "cell_type": "code",
   "execution_count": 6,
   "id": "2ee0681b",
   "metadata": {},
   "outputs": [
    {
     "name": "stderr",
     "output_type": "stream",
     "text": [
      "Clipping input data to the valid range for imshow with RGB data ([0..1] for floats or [0..255] for integers).\n"
     ]
    },
    {
     "data": {
      "image/png": "[encoded data removed]",
      "text/plain": [
       "<Figure size 100x100 with 1 Axes>"
      ]
     },
     "metadata": {},
     "output_type": "display_data"
    }
   ],
   "source": [
    "''' 5. 데이터 확인하기 (2) '''\n",
    "pltsize = 1\n",
    "plt.figure(figsize=(BATCH_SIZE * pltsize, pltsize))\n",
    "\n",
    "for i in range(BATCH_SIZE):\n",
    "    plt.subplot(1, BATCH_SIZE, i+1)\n",
    "    plt.axis('off')\n",
    "    plt.imshow(np.transpose(X_train[i], (1, 2, 0)))\n",
    "    plt.title('Class: ' + str(y_train[i]))"
   ]
  },
  {
   "cell_type": "code",
   "execution_count": 7,
   "id": "bc11d5fe",
   "metadata": {},
   "outputs": [],
   "source": [
    "''' 6. 불러온 특정 모델에 대해 학습을 진행하며 학습 데이터에 대한 모델 성능을 확인하는 함수 정의 '''\n",
    "def train(model, train_loader, optimizer, log_interval):\n",
    "    model.train() # 모델을 학습 상태로 지정\n",
    "    for batch_idx, (image, label) in enumerate(train_loader):\n",
    "        label = list(map(int, label))\n",
    "        label = torch.Tensor(label)\n",
    "        image = image.to(DEVICE) # 기존 정의한 장비에 할당\n",
    "        label = label.to(DEVICE) # 기존 정의한 장비에 할당\n",
    "        optimizer.zero_grad() # 기존 할당되어 있던 gradient 값 초기화\n",
    "        output = model(image) # Forward propagation\n",
    "        loss = criterion(output, label.long()) # loss 계산\n",
    "        loss.backward() # Backpropagation을 통해 계산된 gradient 값을 각 파라미터에 할당\n",
    "        optimizer.step() # 파라미터 업데이트\n",
    "        \n",
    "        if batch_idx % log_interval == 0:\n",
    "            print(\"Train Epoch: {} [{}/{}({:.0f}%)]\\tTrain Loss: {:.6f}\".format(\n",
    "                  Epoch, batch_idx * len(image),\n",
    "                  len(train_loader.dataset), 100. * batch_idx / len(train_loader),\n",
    "                  loss.item()))"
   ]
  },
  {
   "cell_type": "code",
   "execution_count": 8,
   "id": "0c1f5556",
   "metadata": {},
   "outputs": [],
   "source": [
    "''' 7. 학습되는 과정 속에서 검증 데이터에 대한 모델 성능을 확인하는 함수 정의 '''\n",
    "def evaluate(model, test_loader):\n",
    "    model.eval() # 모델을 평가 상태로 지정\n",
    "    test_loss = 0\n",
    "    correct = 0\n",
    "    \n",
    "    with torch.no_grad(): # 평가하는 단계에서 gradient를 통해 파라미터 값이 업데이트되는 현상을 방지\n",
    "        for image, label in test_loader:\n",
    "            label = list(map(int, label))\n",
    "            label = torch.Tensor(label)\n",
    "            image = image.to(DEVICE) # 기존 정의한 장비에 할당\n",
    "            label = label.to(DEVICE) # 기존 정의한 장비에 할당\n",
    "            output = model(image) # Forward propagation\n",
    "            test_loss += criterion(output, label.long()).item() # loss 누적\n",
    "            prediction = output.max(1, keepdim = True)[1]\n",
    "            correct += prediction.eq(label.view_as(prediction)).sum().item() \n",
    "            \n",
    "    test_loss /= len(test_loader.dataset) # 평균 loss 계산\n",
    "    test_accuracy = 100. * correct / len(test_loader.dataset) # 정확도 계산\n",
    "    return test_loss, test_accuracy"
   ]
  },
  {
   "cell_type": "code",
   "execution_count": 9,
   "id": "922c4332",
   "metadata": {},
   "outputs": [
    {
     "name": "stdout",
     "output_type": "stream",
     "text": [
      "AlexNet(\n",
      "  (features): Sequential(\n",
      "    (0): Conv2d(3, 64, kernel_size=(11, 11), stride=(4, 4), padding=(2, 2))\n",
      "    (1): ReLU(inplace=True)\n",
      "    (2): MaxPool2d(kernel_size=3, stride=2, padding=0, dilation=1, ceil_mode=False)\n",
      "    (3): Conv2d(64, 192, kernel_size=(5, 5), stride=(1, 1), padding=(2, 2))\n",
      "    (4): ReLU(inplace=True)\n",
      "    (5): MaxPool2d(kernel_size=3, stride=2, padding=0, dilation=1, ceil_mode=False)\n",
      "    (6): Conv2d(192, 384, kernel_size=(3, 3), stride=(1, 1), padding=(1, 1))\n",
      "    (7): ReLU(inplace=True)\n",
      "    (8): Conv2d(384, 256, kernel_size=(3, 3), stride=(1, 1), padding=(1, 1))\n",
      "    (9): ReLU(inplace=True)\n",
      "    (10): Conv2d(256, 256, kernel_size=(3, 3), stride=(1, 1), padding=(1, 1))\n",
      "    (11): ReLU(inplace=True)\n",
      "    (12): MaxPool2d(kernel_size=3, stride=2, padding=0, dilation=1, ceil_mode=False)\n",
      "  )\n",
      "  (avgpool): AdaptiveAvgPool2d(output_size=(6, 6))\n",
      "  (classifier): Sequential(\n",
      "    (0): Dropout(p=0.5, inplace=False)\n",
      "    (1): Linear(in_features=9216, out_features=4096, bias=True)\n",
      "    (2): ReLU(inplace=True)\n",
      "    (3): Dropout(p=0.5, inplace=False)\n",
      "    (4): Linear(in_features=4096, out_features=4096, bias=True)\n",
      "    (5): ReLU(inplace=True)\n",
      "    (6): Linear(in_features=4096, out_features=2, bias=True)\n",
      "  )\n",
      ")\n"
     ]
    }
   ],
   "source": [
    "import torchvision.models as models\n",
    "if MODEL == 'AlexNet':\n",
    "    model = models.alexnet(pretrained=False)\n",
    "model._modules['classifier']._modules['6'] = nn.Linear(4096, 2, bias=True)\n",
    "model = model.cuda()\n",
    "print(model)\n",
    "\n",
    "#for children in model.classifier.children():\n",
    "#    if isinstance(children, nn.Linear):\n",
    "#        if children.out_features == 1000:\n",
    "#            print(children)"
   ]
  },
  {
   "cell_type": "code",
   "execution_count": 10,
   "id": "d06b78dd",
   "metadata": {},
   "outputs": [
    {
     "name": "stdout",
     "output_type": "stream",
     "text": [
      "Train Epoch: 1 [0/1867(0%)]\tTrain Loss: 0.690328\n",
      "Train Epoch: 1 [200/1867(11%)]\tTrain Loss: 0.607958\n",
      "Train Epoch: 1 [400/1867(21%)]\tTrain Loss: 0.609610\n",
      "Train Epoch: 1 [600/1867(32%)]\tTrain Loss: 0.748308\n",
      "Train Epoch: 1 [800/1867(43%)]\tTrain Loss: 0.263713\n",
      "Train Epoch: 1 [1000/1867(54%)]\tTrain Loss: 0.244367\n",
      "Train Epoch: 1 [1200/1867(64%)]\tTrain Loss: 0.740167\n",
      "Train Epoch: 1 [1400/1867(75%)]\tTrain Loss: 0.427577\n",
      "Train Epoch: 1 [1600/1867(86%)]\tTrain Loss: 0.995591\n",
      "Train Epoch: 1 [1800/1867(96%)]\tTrain Loss: 0.294460\n",
      "\n",
      "EPOCH: 1], \tTest Loss: 0.3423, \tTest Accuracy: 89.71 %\n",
      "\n",
      "Train Epoch: 2 [0/1867(0%)]\tTrain Loss: 0.003352\n",
      "Train Epoch: 2 [200/1867(11%)]\tTrain Loss: 0.012653\n",
      "Train Epoch: 2 [400/1867(21%)]\tTrain Loss: 0.232000\n",
      "Train Epoch: 2 [600/1867(32%)]\tTrain Loss: 0.196289\n",
      "Train Epoch: 2 [800/1867(43%)]\tTrain Loss: 0.170170\n",
      "Train Epoch: 2 [1000/1867(54%)]\tTrain Loss: 0.000000\n",
      "Train Epoch: 2 [1200/1867(64%)]\tTrain Loss: 0.291923\n",
      "Train Epoch: 2 [1400/1867(75%)]\tTrain Loss: 0.150671\n",
      "Train Epoch: 2 [1600/1867(86%)]\tTrain Loss: 0.146198\n",
      "Train Epoch: 2 [1800/1867(96%)]\tTrain Loss: 0.012649\n",
      "\n",
      "EPOCH: 2], \tTest Loss: 0.2363, \tTest Accuracy: 93.07 %\n",
      "\n",
      "Train Epoch: 3 [0/1867(0%)]\tTrain Loss: 0.134773\n",
      "Train Epoch: 3 [200/1867(11%)]\tTrain Loss: 0.137585\n",
      "Train Epoch: 3 [400/1867(21%)]\tTrain Loss: 0.156579\n",
      "Train Epoch: 3 [600/1867(32%)]\tTrain Loss: 0.163272\n",
      "Train Epoch: 3 [800/1867(43%)]\tTrain Loss: 0.155577\n",
      "Train Epoch: 3 [1000/1867(54%)]\tTrain Loss: 0.000004\n",
      "Train Epoch: 3 [1200/1867(64%)]\tTrain Loss: 0.000037\n",
      "Train Epoch: 3 [1400/1867(75%)]\tTrain Loss: 2.310725\n",
      "Train Epoch: 3 [1600/1867(86%)]\tTrain Loss: 0.106320\n",
      "Train Epoch: 3 [1800/1867(96%)]\tTrain Loss: 0.000000\n",
      "\n",
      "EPOCH: 3], \tTest Loss: 0.1169, \tTest Accuracy: 97.06 %\n",
      "\n",
      "Train Epoch: 4 [0/1867(0%)]\tTrain Loss: 0.560378\n",
      "Train Epoch: 4 [200/1867(11%)]\tTrain Loss: 0.000000\n",
      "Train Epoch: 4 [400/1867(21%)]\tTrain Loss: 0.000094\n",
      "Train Epoch: 4 [600/1867(32%)]\tTrain Loss: 0.098859\n",
      "Train Epoch: 4 [800/1867(43%)]\tTrain Loss: 0.162171\n",
      "Train Epoch: 4 [1000/1867(54%)]\tTrain Loss: 0.239666\n",
      "Train Epoch: 4 [1200/1867(64%)]\tTrain Loss: 0.022432\n",
      "Train Epoch: 4 [1400/1867(75%)]\tTrain Loss: 0.092445\n",
      "Train Epoch: 4 [1600/1867(86%)]\tTrain Loss: 0.603863\n",
      "Train Epoch: 4 [1800/1867(96%)]\tTrain Loss: 0.103056\n",
      "\n",
      "EPOCH: 4], \tTest Loss: 0.1252, \tTest Accuracy: 95.38 %\n",
      "\n",
      "Train Epoch: 5 [0/1867(0%)]\tTrain Loss: 0.000653\n",
      "Train Epoch: 5 [200/1867(11%)]\tTrain Loss: 0.000056\n",
      "Train Epoch: 5 [400/1867(21%)]\tTrain Loss: 0.079729\n",
      "Train Epoch: 5 [600/1867(32%)]\tTrain Loss: 1.129875\n",
      "Train Epoch: 5 [800/1867(43%)]\tTrain Loss: 0.844982\n",
      "Train Epoch: 5 [1000/1867(54%)]\tTrain Loss: 0.001128\n",
      "Train Epoch: 5 [1200/1867(64%)]\tTrain Loss: 0.061523\n",
      "Train Epoch: 5 [1400/1867(75%)]\tTrain Loss: 0.317539\n",
      "Train Epoch: 5 [1600/1867(86%)]\tTrain Loss: 0.000000\n",
      "Train Epoch: 5 [1800/1867(96%)]\tTrain Loss: 0.650383\n",
      "\n",
      "EPOCH: 5], \tTest Loss: 0.1212, \tTest Accuracy: 95.17 %\n",
      "\n",
      "Train Epoch: 6 [0/1867(0%)]\tTrain Loss: 0.122978\n",
      "Train Epoch: 6 [200/1867(11%)]\tTrain Loss: 0.057608\n",
      "Train Epoch: 6 [400/1867(21%)]\tTrain Loss: 0.000000\n",
      "Train Epoch: 6 [600/1867(32%)]\tTrain Loss: 0.000428\n",
      "Train Epoch: 6 [800/1867(43%)]\tTrain Loss: 0.000000\n",
      "Train Epoch: 6 [1000/1867(54%)]\tTrain Loss: 0.002607\n",
      "Train Epoch: 6 [1200/1867(64%)]\tTrain Loss: 2.253918\n",
      "Train Epoch: 6 [1400/1867(75%)]\tTrain Loss: 0.000668\n",
      "Train Epoch: 6 [1600/1867(86%)]\tTrain Loss: 0.454047\n",
      "Train Epoch: 6 [1800/1867(96%)]\tTrain Loss: 0.000109\n",
      "\n",
      "EPOCH: 6], \tTest Loss: 0.0987, \tTest Accuracy: 97.69 %\n",
      "\n",
      "Train Epoch: 7 [0/1867(0%)]\tTrain Loss: 0.066881\n",
      "Train Epoch: 7 [200/1867(11%)]\tTrain Loss: 0.065463\n",
      "Train Epoch: 7 [400/1867(21%)]\tTrain Loss: 0.276290\n",
      "Train Epoch: 7 [600/1867(32%)]\tTrain Loss: 2.738013\n",
      "Train Epoch: 7 [800/1867(43%)]\tTrain Loss: 0.000616\n",
      "Train Epoch: 7 [1000/1867(54%)]\tTrain Loss: 0.322352\n",
      "Train Epoch: 7 [1200/1867(64%)]\tTrain Loss: 0.047540\n",
      "Train Epoch: 7 [1400/1867(75%)]\tTrain Loss: 0.000001\n",
      "Train Epoch: 7 [1600/1867(86%)]\tTrain Loss: 0.000000\n",
      "Train Epoch: 7 [1800/1867(96%)]\tTrain Loss: 0.000062\n",
      "\n",
      "EPOCH: 7], \tTest Loss: 0.1046, \tTest Accuracy: 97.69 %\n",
      "\n",
      "Train Epoch: 8 [0/1867(0%)]\tTrain Loss: 0.210702\n",
      "Train Epoch: 8 [200/1867(11%)]\tTrain Loss: 0.154015\n",
      "Train Epoch: 8 [400/1867(21%)]\tTrain Loss: 0.000747\n",
      "Train Epoch: 8 [600/1867(32%)]\tTrain Loss: 0.044517\n",
      "Train Epoch: 8 [800/1867(43%)]\tTrain Loss: 0.001335\n",
      "Train Epoch: 8 [1000/1867(54%)]\tTrain Loss: 0.034746\n",
      "Train Epoch: 8 [1200/1867(64%)]\tTrain Loss: 0.000777\n",
      "Train Epoch: 8 [1400/1867(75%)]\tTrain Loss: 0.252189\n",
      "Train Epoch: 8 [1600/1867(86%)]\tTrain Loss: 0.000000\n",
      "Train Epoch: 8 [1800/1867(96%)]\tTrain Loss: 0.000216\n",
      "\n",
      "EPOCH: 8], \tTest Loss: 0.0945, \tTest Accuracy: 97.90 %\n",
      "\n",
      "Train Epoch: 9 [0/1867(0%)]\tTrain Loss: 0.000370\n",
      "Train Epoch: 9 [200/1867(11%)]\tTrain Loss: 0.040709\n",
      "Train Epoch: 9 [400/1867(21%)]\tTrain Loss: 0.000000\n",
      "Train Epoch: 9 [600/1867(32%)]\tTrain Loss: 0.092351\n",
      "Train Epoch: 9 [800/1867(43%)]\tTrain Loss: 0.039082\n",
      "Train Epoch: 9 [1000/1867(54%)]\tTrain Loss: 0.046114\n",
      "Train Epoch: 9 [1200/1867(64%)]\tTrain Loss: 0.000338\n",
      "Train Epoch: 9 [1400/1867(75%)]\tTrain Loss: 0.068170\n",
      "Train Epoch: 9 [1600/1867(86%)]\tTrain Loss: 0.000000\n",
      "Train Epoch: 9 [1800/1867(96%)]\tTrain Loss: 0.042648\n",
      "\n",
      "EPOCH: 9], \tTest Loss: 0.0701, \tTest Accuracy: 97.27 %\n",
      "\n",
      "Train Epoch: 10 [0/1867(0%)]\tTrain Loss: 0.104848\n",
      "Train Epoch: 10 [200/1867(11%)]\tTrain Loss: 0.000000\n",
      "Train Epoch: 10 [400/1867(21%)]\tTrain Loss: 0.041841\n",
      "Train Epoch: 10 [600/1867(32%)]\tTrain Loss: 0.033197\n",
      "Train Epoch: 10 [800/1867(43%)]\tTrain Loss: 1.881616\n",
      "Train Epoch: 10 [1000/1867(54%)]\tTrain Loss: 0.002209\n",
      "Train Epoch: 10 [1200/1867(64%)]\tTrain Loss: 0.001014\n",
      "Train Epoch: 10 [1400/1867(75%)]\tTrain Loss: 0.000003\n",
      "Train Epoch: 10 [1600/1867(86%)]\tTrain Loss: 0.000000\n",
      "Train Epoch: 10 [1800/1867(96%)]\tTrain Loss: 0.000194\n",
      "\n",
      "EPOCH: 10], \tTest Loss: 0.0631, \tTest Accuracy: 99.16 %\n",
      "\n"
     ]
    }
   ],
   "source": [
    "if OPTIM == 'Adam':\n",
    "    optimizer = torch.optim.Adam(model.parameters(), lr = LEARNING_RATE)\n",
    "elif OPTIM == 'SGD':\n",
    "    optimizer = torch.optim.SGD(model.parameters(), lr = LEARNING_RATE, momentum=0.9, weight_decay=0.0005)\n",
    "criterion = nn.CrossEntropyLoss()\n",
    "\n",
    "SAVE_PATH = './saved_model'\n",
    "if not os.path.isdir(SAVE_PATH):\n",
    "    os.makedirs(SAVE_PATH)\n",
    "    \n",
    "best_acc = 0\n",
    "best_ep = 0\n",
    "    \n",
    "for Epoch in range(1, EPOCHS + 1):\n",
    "    train(model, train_loader, optimizer, log_interval = 200)\n",
    "    test_loss, test_accuracy = evaluate(model, test_loader)\n",
    "    if test_accuracy > best_acc:\n",
    "        best_acc = test_accuracy\n",
    "        best_model = copy.deepcopy(model)\n",
    "        best_ep = Epoch\n",
    "    print(\"\\nEPOCH: {}], \\tTest Loss: {:.4f}, \\tTest Accuracy: {:.2f} %\\n\".format(Epoch, test_loss, test_accuracy))\n",
    "\n",
    "torch.save(best_model.state_dict(), SAVE_PATH+\"/{}_BS{}_{}_LR{}_EP{}.pt\".format(MODEL, BATCH_SIZE, OPTIM, LEARNING_RATE, EPOCHS))"
   ]
  },
  {
   "cell_type": "markdown",
   "id": "4799c3de",
   "metadata": {},
   "source": [
    "# 훈련된 모델 확인"
   ]
  },
  {
   "cell_type": "code",
   "execution_count": 17,
   "id": "8ea7f5e6",
   "metadata": {},
   "outputs": [
    {
     "name": "stdout",
     "output_type": "stream",
     "text": [
      "AlexNet(\n",
      "  (features): Sequential(\n",
      "    (0): Conv2d(3, 64, kernel_size=(11, 11), stride=(4, 4), padding=(2, 2))\n",
      "    (1): ReLU(inplace=True)\n",
      "    (2): MaxPool2d(kernel_size=3, stride=2, padding=0, dilation=1, ceil_mode=False)\n",
      "    (3): Conv2d(64, 192, kernel_size=(5, 5), stride=(1, 1), padding=(2, 2))\n",
      "    (4): ReLU(inplace=True)\n",
      "    (5): MaxPool2d(kernel_size=3, stride=2, padding=0, dilation=1, ceil_mode=False)\n",
      "    (6): Conv2d(192, 384, kernel_size=(3, 3), stride=(1, 1), padding=(1, 1))\n",
      "    (7): ReLU(inplace=True)\n",
      "    (8): Conv2d(384, 256, kernel_size=(3, 3), stride=(1, 1), padding=(1, 1))\n",
      "    (9): ReLU(inplace=True)\n",
      "    (10): Conv2d(256, 256, kernel_size=(3, 3), stride=(1, 1), padding=(1, 1))\n",
      "    (11): ReLU(inplace=True)\n",
      "    (12): MaxPool2d(kernel_size=3, stride=2, padding=0, dilation=1, ceil_mode=False)\n",
      "  )\n",
      "  (avgpool): AdaptiveAvgPool2d(output_size=(6, 6))\n",
      "  (classifier): Sequential(\n",
      "    (0): Dropout(p=0.5, inplace=False)\n",
      "    (1): Linear(in_features=9216, out_features=4096, bias=True)\n",
      "    (2): ReLU(inplace=True)\n",
      "    (3): Dropout(p=0.5, inplace=False)\n",
      "    (4): Linear(in_features=4096, out_features=4096, bias=True)\n",
      "    (5): ReLU(inplace=True)\n",
      "    (6): Linear(in_features=4096, out_features=2, bias=True)\n",
      "  )\n",
      ")\n"
     ]
    },
    {
     "data": {
      "text/plain": [
       "<All keys matched successfully>"
      ]
     },
     "execution_count": 17,
     "metadata": {},
     "output_type": "execute_result"
    }
   ],
   "source": [
    "model_path = SAVE_PATH+\"/{}_BS{}_{}_LR{}_EP{}.pt\".format(MODEL, BATCH_SIZE, OPTIM, LEARNING_RATE, EPOCHS)\n",
    "trained_model = models.alexnet(pretrained=False)\n",
    "trained_model._modules['classifier']._modules['6'] = nn.Linear(4096, 2, bias=True)\n",
    "trained_model = trained_model.cuda()\n",
    "print(model)\n",
    "trained_model.load_state_dict(torch.load(model_path))"
   ]
  },
  {
   "cell_type": "code",
   "execution_count": 16,
   "id": "bc9d8f7e",
   "metadata": {},
   "outputs": [
    {
     "name": "stdout",
     "output_type": "stream",
     "text": [
      "0.06306391112237013 99.15966386554622\n"
     ]
    }
   ],
   "source": [
    "test_loss, test_accuracy = evaluate(trained_model, test_loader)\n",
    "print(test_loss, test_accuracy)"
   ]
  }
 ],
 "metadata": {
  "kernelspec": {
   "display_name": "Python 3 (ipykernel)",
   "language": "python",
   "name": "python3"
  },
  "language_info": {
   "codemirror_mode": {
    "name": "ipython",
    "version": 3
   },
   "file_extension": ".py",
   "mimetype": "text/x-python",
   "name": "python",
   "nbconvert_exporter": "python",
   "pygments_lexer": "ipython3",
   "version": "3.8.0"
  }
 },
 "nbformat": 4,
 "nbformat_minor": 5
}
